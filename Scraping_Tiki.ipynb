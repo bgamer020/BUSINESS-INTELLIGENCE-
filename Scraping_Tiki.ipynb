{
 "cells": [
  {
   "cell_type": "code",
   "execution_count": 2,
   "metadata": {},
   "outputs": [],
   "source": [
    "import requests\n",
    "from bs4 import BeautifulSoup\n",
    "import json\n",
    "import pandas as pd\n"
   ]
  },
  {
   "cell_type": "code",
   "execution_count": 5,
   "metadata": {},
   "outputs": [],
   "source": [
    "#Url đến TH True Milk \n",
    "base_url_TH = 'https://tiki.vn/api/v2/products?limit=40&include=advertisement&aggregations=2&trackity_id=ecd78987-288d-a401-89f2-c339a522fc12&q=th+true+milk&page='\n",
    "#Url đến Dutch Lady\n",
    "base_url_Dutch_Lady = 'https://tiki.vn/api/v2/products?limit=40&include=advertisement&aggregations=2&trackity_id=ecd78987-288d-a401-89f2-c339a522fc12&q=Dutch+Lady&page='\n",
    "#Url đến Dutch Nutifood \n",
    "base_url_Nutifood = 'https://tiki.vn/api/v2/products?limit=40&include=advertisement&aggregations=2&trackity_id=ecd78987-288d-a401-89f2-c339a522fc12&q=Nutifood&page='\n",
    "\n",
    "headers = {\n",
    "    'User-Agent': 'Mozilla/5.0 (Windows NT 10.0; Win64; x64) AppleWebKit/537.36 (KHTML, like Gecko) Chrome/129.0.0.0 Safari/537.36 Edg/129.0.0.0'\n",
    "}\n",
    "\n",
    "#Mảng Data \n",
    "extracted_data = []\n",
    "\n",
    "#Hàm scrape data \n",
    "def crawler(url):\n",
    "    response = requests.get(url, headers=headers)\n",
    "    data = response.json()\n",
    "    soup = BeautifulSoup(response.text, 'html.parser')\n",
    "    products = data.get(\"data\", [])\n",
    "\n",
    "    for product in products:\n",
    "        \n",
    "        product_data = {\n",
    "            \"seller_id\": product.get(\"seller_id\"),\n",
    "            \"seller_name\": product.get(\"seller_name\"),\n",
    "            \"brand_name\": product.get(\"brand_name\"),\n",
    "            \"product_name\": product.get(\"name\"),\n",
    "            \"price\": product.get(\"price\"),\n",
    "            \"quantity_sold\": product.get(\"quantity_sold\", {}).get(\"value\", 0)\n",
    "        }\n",
    "        extracted_data.append(product_data)\n",
    "    df = pd.DataFrame(extracted_data)\n",
    "    df.to_csv(\"Tiki.csv\", index=False, encoding='utf-8')\n",
    "    \n"
   ]
  },
  {
   "cell_type": "code",
   "execution_count": null,
   "metadata": {},
   "outputs": [],
   "source": [
    "#Scraping từ trang 1 tới trang 10 của kết quả của từ khóa TH True Milk \n",
    "for i in range(1,11):\n",
    "    url = base_url_TH+str(i)\n",
    "    crawler(url)\n",
    "    \n",
    "#Scraping từ trang 1 tới trang 2 của kết quả của từ khóa Dutch Lady \n",
    "for i in range(1,3):\n",
    "    url = base_url_Dutch_Lady+str(i)\n",
    "    crawler(url)\n",
    "\n",
    "#Scraping từ trang 1 tới trang 17 của kết quả của từ khóa Dutch Lady \n",
    "for i in range(1,18):\n",
    "    url = base_url_Nutifood+str(i)\n",
    "    crawler(url)"
   ]
  },
  {
   "cell_type": "code",
   "execution_count": 7,
   "metadata": {},
   "outputs": [],
   "source": [
    "df = pd.read_csv('Tiki.csv')\n",
    "df = df.drop(columns=['seller_id'])\n",
    "df = df.drop(columns=['seller_name'])\n",
    "df.to_csv('Tiki.csv', index=False)"
   ]
  },
  {
   "cell_type": "code",
   "execution_count": 6,
   "metadata": {},
   "outputs": [],
   "source": [
    "url_vinamilk = \"https://tiki.vn/api/v2/products?limit=40&include=advertisement&aggregations=2&trackity_id=887f9373-b723-e901-c96c-b1c02c017036&q=vinamilk&page={}\"\n",
    "urls_vinamilks = [url_vinamilk .format(page) for page in range(1, 20)]\n",
    "for url in urls_vinamilks:\n",
    "    crawler(url)\n"
   ]
  },
  {
   "cell_type": "code",
   "execution_count": 8,
   "metadata": {},
   "outputs": [],
   "source": [
    "import pandas as pd\n",
    "\n",
    "# Đọc dữ liệu từ file CSV\n",
    "df = pd.read_csv('Tiki.csv')\n",
    "\n",
    "# Giữ lại những dữ liệu có brand_name là \"Vinamilk\"\n",
    "df_filtered = df[df['brand_name'] == 'Vinamilk']\n",
    "\n",
    "# Lưu kết quả vào file mới (nếu cần)\n",
    "df_filtered.to_csv('Tiki.csv', index=False)\n",
    "\n"
   ]
  },
  {
   "cell_type": "code",
   "execution_count": 9,
   "metadata": {},
   "outputs": [],
   "source": [
    "import pandas as pd\n",
    "\n",
    "# Đọc dữ liệu từ file Tiki.csv\n",
    "tiki_df = pd.read_csv('Tiki.csv')\n",
    "\n",
    "# Đọc dữ liệu từ file Milk.csv\n",
    "milk_df = pd.read_csv('Milk.csv')\n",
    "\n",
    "# Nối hai DataFrame lại với nhau\n",
    "combined_df = pd.concat([tiki_df, milk_df], ignore_index=True)\n",
    "\n",
    "# Lưu kết quả vào file mới\n",
    "combined_df.to_csv('Milk.csv', index=False)\n",
    "\n"
   ]
  },
  {
   "cell_type": "code",
   "execution_count": null,
   "metadata": {},
   "outputs": [],
   "source": [
    "import pandas as pd\n",
    "\n",
    "# Đọc dữ liệu từ file CSV\n",
    "df = pd.read_csv('Milk.csv')\n",
    "\n",
    "# Lấy cột brand_name ra\n",
    "brand_name_column = df.pop('brand_name')\n",
    "\n",
    "# Thêm cột brand_name vào cuối DataFrame\n",
    "df['brand_name'] = brand_name_column\n",
    "\n",
    "# Lưu kết quả vào file mới\n",
    "df.to_csv('DemoMilk.csv', index=False)\n",
    "\n",
    "# Hiển thị kết quả\n",
    "print(df)"
   ]
  }
 ],
 "metadata": {
  "kernelspec": {
   "display_name": "Python 3",
   "language": "python",
   "name": "python3"
  },
  "language_info": {
   "codemirror_mode": {
    "name": "ipython",
    "version": 3
   },
   "file_extension": ".py",
   "mimetype": "text/x-python",
   "name": "python",
   "nbconvert_exporter": "python",
   "pygments_lexer": "ipython3",
   "version": "3.12.5"
  }
 },
 "nbformat": 4,
 "nbformat_minor": 2
}
