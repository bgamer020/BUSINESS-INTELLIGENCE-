{
 "cells": [
  {
   "cell_type": "code",
   "execution_count": 2,
   "metadata": {},
   "outputs": [],
   "source": [
    "import os\n",
    "import pandas as pd\n",
    "from selenium import webdriver\n",
    "from selenium.webdriver.common.by import By\n",
    "from selenium.common.exceptions import WebDriverException, NoSuchElementException\n",
    "from selenium.webdriver.support.ui import WebDriverWait\n",
    "from selenium.webdriver.support import expected_conditions as EC\n",
    "import time\n",
    "import random \n",
    "from selenium.webdriver.common.action_chains import ActionChains"
   ]
  },
  {
   "cell_type": "code",
   "execution_count": 3,
   "metadata": {},
   "outputs": [],
   "source": [
    "def crawler(url):\n",
    "    edge_driver_path = r\"C:\\Users\\fptsh\\OneDrive\\Desktop\\BI\\driver\\msedgedriver.exe\"\n",
    "    driver = webdriver.Edge(executable_path=edge_driver_path)\n",
    "    action = ActionChains(driver)\n",
    "    action.move_by_offset(100, 100).perform()\n",
    "    try:\n",
    "        driver.get(url)\n",
    "        WebDriverWait(driver, 10).until(EC.presence_of_all_elements_located((By.CSS_SELECTOR, \".RfADt [href]\")))\n",
    "\n",
    "        product_name = extract_elements_text(driver, \".RfADt [href]\")\n",
    "        price = extract_elements_text(driver, \".aBrP0\", transform_func=lambda x: x.split(\" ₫\")[0])\n",
    "        quantity_sold = extract_elements_text(driver, \"._1cEkb\", transform_func=lambda x: x.split(\" Đã bán\")[0])\n",
    "\n",
    "        # Combine data into a DataFrame\n",
    "        combined_data = zip(product_name, price, quantity_sold)\n",
    "        df = pd.DataFrame(combined_data, columns=['product_name', 'price', 'quantity_sold'])\n",
    "\n",
    "        df['quantity_sold'] = df['quantity_sold'].apply(convert_to_number)\n",
    "        df['price'] = df['price'].apply(convert_to_number)\n",
    "\n",
    "        if not df.empty:\n",
    "            df.to_csv('Lazada.csv', mode='a', index=False, header=not pd.io.common.file_exists('Lazada.csv'))\n",
    "\n",
    "    except WebDriverException as e:\n",
    "        print(f\"WebDriver error occurred: {e}\")\n",
    "    except Exception as e:\n",
    "        print(f\"An error occurred: {e}\")\n",
    "    finally:\n",
    "        driver.quit()\n",
    "\n",
    "def extract_elements_text(driver, css_selector, transform_func=None):\n",
    "    try:\n",
    "        elems = driver.find_elements(By.CSS_SELECTOR, css_selector)\n",
    "        texts = [elem.text for elem in elems]\n",
    "        if transform_func:\n",
    "            texts = [transform_func(text) for text in texts]\n",
    "        return texts\n",
    "    except NoSuchElementException:\n",
    "        return []\n",
    "\n",
    "def convert_to_number(value):\n",
    "    if isinstance(value, str):\n",
    "        if 'K' in value:\n",
    "            return int(float(value.replace(\"K\", \"\")) * 1000)\n",
    "        elif '.' in value:\n",
    "            return int(value.replace(\".\", \"\"))\n",
    "    return int(value)\n",
    "\n",
    "\n"
   ]
  },
  {
   "cell_type": "code",
   "execution_count": null,
   "metadata": {},
   "outputs": [],
   "source": [
    "# URL lists\n",
    "base_url_TH_True_Milk = \"https://www.lazada.vn/catalog/?_keyori=ss&from=search_history&page={}&q=TH%20True%20Milk&spm=a2o4n.homepage.search.2.19053bdc0fTduN&sugg=TH%20True%20Milk_0_1\"\n",
    "base_url_Dutch_Lady = \"https://www.lazada.vn/catalog/?page={}&q=Dutch%20Lady\"\n",
    "base_url_Nutifood = \"https://www.lazada.vn/catalog/?page={}&q=Nutifood\"\n",
    "\n",
    "urls_TH_True_Milk = [base_url_TH_True_Milk.format(page) for page in range(1, 31)]\n",
    "urls_Dutch_Lady = [base_url_Dutch_Lady.format(page) for page in range(1, 33)]\n",
    "urls_Nutifoods = [base_url_Nutifood.format(page) for page in range(1, 44)]\n",
    "\n",
    "# Example of running the crawler on all URLs\n",
    "for url in urls_TH_True_Milk + urls_Dutch_Lady + urls_Nutifoods:\n",
    "    crawler(url)\n",
    "    time.sleep(1)  # Delay to avoid overwhelming the server"
   ]
  },
  {
   "cell_type": "code",
   "execution_count": null,
   "metadata": {},
   "outputs": [],
   "source": [
    "\n",
    "\n",
    "# URL lists\n",
    "base_url_Twister = \"https://www.lazada.vn/tag/nuoc-cam-ep-twister/?catalog_redirect_tag=true&page={}&q=n%C6%B0%E1%BB%9Bc%20cam%20%C3%A9p%20twister\"\n",
    "base_url_Vfresh = \"https://www.lazada.vn/tag/nuoc-vfresh/?catalog_redirect_tag=true&page={}&q=n%C6%B0%E1%BB%9Bc%20vfresh\"\n",
    "base_url_TH_True_Juice = \"https://www.lazada.vn/catalog/?page={}&q=TH%20True%20Juice\"\n",
    "\n",
    "urls_Twister= [base_url_Twister.format(page) for page in range(1, 33)]\n",
    "urls_Vfresh = [base_url_Vfresh.format(page) for page in range(1, 33)]\n",
    "urls_TH_True_Juice = [base_url_TH_True_Juice.format(page) for page in range(1, 33)]\n",
    "urls = urls_Twister + urls_TH_True_Juice + urls_Vfresh\n",
    "# Example of running the crawler on all URLs\n",
    "for url in urls:\n",
    "    crawler(url)\n",
    "    time.sleep(1)  # Delay to avoid overwhelming the server"
   ]
  },
  {
   "cell_type": "code",
   "execution_count": null,
   "metadata": {},
   "outputs": [],
   "source": [
    "#mode='a': Thêm dữ liệu vào tệp CSV thay vì ghi đè.\n",
    "#header=not bool(df1.shape[0]): Đảm bảo tiêu đề chỉ được ghi một lần."
   ]
  },
  {
   "cell_type": "code",
   "execution_count": 11,
   "metadata": {},
   "outputs": [
    {
     "name": "stdout",
     "output_type": "stream",
     "text": [
      "WebDriver error occurred: Message: \n",
      "\n",
      "WebDriver error occurred: Message: \n",
      "\n"
     ]
    },
    {
     "ename": "KeyboardInterrupt",
     "evalue": "",
     "output_type": "error",
     "traceback": [
      "\u001b[1;31m---------------------------------------------------------------------------\u001b[0m",
      "\u001b[1;31mTimeoutError\u001b[0m                              Traceback (most recent call last)",
      "File \u001b[1;32mc:\\Users\\fptsh\\AppData\\Local\\Programs\\Python\\Python312\\Lib\\socket.py:850\u001b[0m, in \u001b[0;36mcreate_connection\u001b[1;34m(address, timeout, source_address, all_errors)\u001b[0m\n\u001b[0;32m    849\u001b[0m     sock\u001b[38;5;241m.\u001b[39mbind(source_address)\n\u001b[1;32m--> 850\u001b[0m \u001b[43msock\u001b[49m\u001b[38;5;241;43m.\u001b[39;49m\u001b[43mconnect\u001b[49m\u001b[43m(\u001b[49m\u001b[43msa\u001b[49m\u001b[43m)\u001b[49m\n\u001b[0;32m    851\u001b[0m \u001b[38;5;66;03m# Break explicitly a reference cycle\u001b[39;00m\n",
      "\u001b[1;31mTimeoutError\u001b[0m: timed out",
      "\nDuring handling of the above exception, another exception occurred:\n",
      "\u001b[1;31mKeyboardInterrupt\u001b[0m                         Traceback (most recent call last)",
      "Cell \u001b[1;32mIn[11], line 4\u001b[0m\n\u001b[0;32m      2\u001b[0m urls_Vinamilk \u001b[38;5;241m=\u001b[39m [base_url_Vinamilk\u001b[38;5;241m.\u001b[39mformat(page) \u001b[38;5;28;01mfor\u001b[39;00m page \u001b[38;5;129;01min\u001b[39;00m \u001b[38;5;28mrange\u001b[39m(\u001b[38;5;241m1\u001b[39m, \u001b[38;5;241m31\u001b[39m)]\n\u001b[0;32m      3\u001b[0m \u001b[38;5;28;01mfor\u001b[39;00m url \u001b[38;5;129;01min\u001b[39;00m urls_Vinamilk:\n\u001b[1;32m----> 4\u001b[0m     \u001b[43mcrawler\u001b[49m\u001b[43m(\u001b[49m\u001b[43murl\u001b[49m\u001b[43m)\u001b[49m\n\u001b[0;32m      5\u001b[0m     time\u001b[38;5;241m.\u001b[39msleep(random\u001b[38;5;241m.\u001b[39muniform(\u001b[38;5;241m10\u001b[39m, \u001b[38;5;241m15\u001b[39m))\n",
      "Cell \u001b[1;32mIn[10], line 29\u001b[0m, in \u001b[0;36mcrawler\u001b[1;34m(url)\u001b[0m\n\u001b[0;32m     27\u001b[0m     \u001b[38;5;28mprint\u001b[39m(\u001b[38;5;124mf\u001b[39m\u001b[38;5;124m\"\u001b[39m\u001b[38;5;124mAn error occurred: \u001b[39m\u001b[38;5;132;01m{\u001b[39;00me\u001b[38;5;132;01m}\u001b[39;00m\u001b[38;5;124m\"\u001b[39m)\n\u001b[0;32m     28\u001b[0m \u001b[38;5;28;01mfinally\u001b[39;00m:\n\u001b[1;32m---> 29\u001b[0m     \u001b[43mdriver\u001b[49m\u001b[38;5;241;43m.\u001b[39;49m\u001b[43mquit\u001b[49m\u001b[43m(\u001b[49m\u001b[43m)\u001b[49m\n",
      "File \u001b[1;32mc:\\Users\\fptsh\\AppData\\Local\\Programs\\Python\\Python312\\Lib\\site-packages\\selenium\\webdriver\\edge\\webdriver.py:71\u001b[0m, in \u001b[0;36mWebDriver.quit\u001b[1;34m(self)\u001b[0m\n\u001b[0;32m     69\u001b[0m \u001b[38;5;28;01mdef\u001b[39;00m \u001b[38;5;21mquit\u001b[39m(\u001b[38;5;28mself\u001b[39m):\n\u001b[0;32m     70\u001b[0m     RemoteWebDriver\u001b[38;5;241m.\u001b[39mquit(\u001b[38;5;28mself\u001b[39m)\n\u001b[1;32m---> 71\u001b[0m     \u001b[38;5;28;43mself\u001b[39;49m\u001b[38;5;241;43m.\u001b[39;49m\u001b[43medge_service\u001b[49m\u001b[38;5;241;43m.\u001b[39;49m\u001b[43mstop\u001b[49m\u001b[43m(\u001b[49m\u001b[43m)\u001b[49m\n",
      "File \u001b[1;32mc:\\Users\\fptsh\\AppData\\Local\\Programs\\Python\\Python312\\Lib\\site-packages\\selenium\\webdriver\\common\\service.py:151\u001b[0m, in \u001b[0;36mService.stop\u001b[1;34m(self)\u001b[0m\n\u001b[0;32m    148\u001b[0m     \u001b[38;5;28;01mreturn\u001b[39;00m\n\u001b[0;32m    150\u001b[0m \u001b[38;5;28;01mtry\u001b[39;00m:\n\u001b[1;32m--> 151\u001b[0m     \u001b[38;5;28;43mself\u001b[39;49m\u001b[38;5;241;43m.\u001b[39;49m\u001b[43msend_remote_shutdown_command\u001b[49m\u001b[43m(\u001b[49m\u001b[43m)\u001b[49m\n\u001b[0;32m    152\u001b[0m \u001b[38;5;28;01mexcept\u001b[39;00m \u001b[38;5;167;01mTypeError\u001b[39;00m:\n\u001b[0;32m    153\u001b[0m     \u001b[38;5;28;01mpass\u001b[39;00m\n",
      "File \u001b[1;32mc:\\Users\\fptsh\\AppData\\Local\\Programs\\Python\\Python312\\Lib\\site-packages\\selenium\\webdriver\\common\\service.py:132\u001b[0m, in \u001b[0;36mService.send_remote_shutdown_command\u001b[1;34m(self)\u001b[0m\n\u001b[0;32m    129\u001b[0m     \u001b[38;5;28;01mreturn\u001b[39;00m\n\u001b[0;32m    131\u001b[0m \u001b[38;5;28;01mfor\u001b[39;00m x \u001b[38;5;129;01min\u001b[39;00m \u001b[38;5;28mrange\u001b[39m(\u001b[38;5;241m30\u001b[39m):\n\u001b[1;32m--> 132\u001b[0m     \u001b[38;5;28;01mif\u001b[39;00m \u001b[38;5;129;01mnot\u001b[39;00m \u001b[38;5;28;43mself\u001b[39;49m\u001b[38;5;241;43m.\u001b[39;49m\u001b[43mis_connectable\u001b[49m\u001b[43m(\u001b[49m\u001b[43m)\u001b[49m:\n\u001b[0;32m    133\u001b[0m         \u001b[38;5;28;01mbreak\u001b[39;00m\n\u001b[0;32m    134\u001b[0m     \u001b[38;5;28;01melse\u001b[39;00m:\n",
      "File \u001b[1;32mc:\\Users\\fptsh\\AppData\\Local\\Programs\\Python\\Python312\\Lib\\site-packages\\selenium\\webdriver\\common\\service.py:115\u001b[0m, in \u001b[0;36mService.is_connectable\u001b[1;34m(self)\u001b[0m\n\u001b[0;32m    114\u001b[0m \u001b[38;5;28;01mdef\u001b[39;00m \u001b[38;5;21mis_connectable\u001b[39m(\u001b[38;5;28mself\u001b[39m):\n\u001b[1;32m--> 115\u001b[0m     \u001b[38;5;28;01mreturn\u001b[39;00m \u001b[43mutils\u001b[49m\u001b[38;5;241;43m.\u001b[39;49m\u001b[43mis_connectable\u001b[49m\u001b[43m(\u001b[49m\u001b[38;5;28;43mself\u001b[39;49m\u001b[38;5;241;43m.\u001b[39;49m\u001b[43mport\u001b[49m\u001b[43m)\u001b[49m\n",
      "File \u001b[1;32mc:\\Users\\fptsh\\AppData\\Local\\Programs\\Python\\Python312\\Lib\\site-packages\\selenium\\webdriver\\common\\utils.py:106\u001b[0m, in \u001b[0;36mis_connectable\u001b[1;34m(port, host)\u001b[0m\n\u001b[0;32m    104\u001b[0m socket_ \u001b[38;5;241m=\u001b[39m \u001b[38;5;28;01mNone\u001b[39;00m\n\u001b[0;32m    105\u001b[0m \u001b[38;5;28;01mtry\u001b[39;00m:\n\u001b[1;32m--> 106\u001b[0m     socket_ \u001b[38;5;241m=\u001b[39m \u001b[43msocket\u001b[49m\u001b[38;5;241;43m.\u001b[39;49m\u001b[43mcreate_connection\u001b[49m\u001b[43m(\u001b[49m\u001b[43m(\u001b[49m\u001b[43mhost\u001b[49m\u001b[43m,\u001b[49m\u001b[43m \u001b[49m\u001b[43mport\u001b[49m\u001b[43m)\u001b[49m\u001b[43m,\u001b[49m\u001b[43m \u001b[49m\u001b[38;5;241;43m1\u001b[39;49m\u001b[43m)\u001b[49m\n\u001b[0;32m    107\u001b[0m     result \u001b[38;5;241m=\u001b[39m \u001b[38;5;28;01mTrue\u001b[39;00m\n\u001b[0;32m    108\u001b[0m \u001b[38;5;28;01mexcept\u001b[39;00m socket\u001b[38;5;241m.\u001b[39merror:\n",
      "File \u001b[1;32mc:\\Users\\fptsh\\AppData\\Local\\Programs\\Python\\Python312\\Lib\\socket.py:857\u001b[0m, in \u001b[0;36mcreate_connection\u001b[1;34m(address, timeout, source_address, all_errors)\u001b[0m\n\u001b[0;32m    855\u001b[0m \u001b[38;5;28;01mexcept\u001b[39;00m error \u001b[38;5;28;01mas\u001b[39;00m exc:\n\u001b[0;32m    856\u001b[0m     \u001b[38;5;28;01mif\u001b[39;00m \u001b[38;5;129;01mnot\u001b[39;00m all_errors:\n\u001b[1;32m--> 857\u001b[0m         \u001b[43mexceptions\u001b[49m\u001b[38;5;241;43m.\u001b[39;49m\u001b[43mclear\u001b[49m\u001b[43m(\u001b[49m\u001b[43m)\u001b[49m  \u001b[38;5;66;03m# raise only the last error\u001b[39;00m\n\u001b[0;32m    858\u001b[0m     exceptions\u001b[38;5;241m.\u001b[39mappend(exc)\n\u001b[0;32m    859\u001b[0m     \u001b[38;5;28;01mif\u001b[39;00m sock \u001b[38;5;129;01mis\u001b[39;00m \u001b[38;5;129;01mnot\u001b[39;00m \u001b[38;5;28;01mNone\u001b[39;00m:\n",
      "\u001b[1;31mKeyboardInterrupt\u001b[0m: "
     ]
    }
   ],
   "source": [
    "base_url_Vinamilk = \"https://www.lazada.vn/catalog/?page={}&q=s%E1%BB%AFa%20t%C6%B0%C6%A1i%20Vinamilk&spm=a2o4n.homepage.search.d_go\"\n",
    "urls_Vinamilk = [base_url_Vinamilk.format(page) for page in range(1, 31)]\n",
    "for url in urls_Vinamilk:\n",
    "    crawler(url)\n",
    "    time.sleep(random.uniform(10, 15))"
   ]
  },
  {
   "cell_type": "code",
   "execution_count": 4,
   "metadata": {},
   "outputs": [],
   "source": [
    "base_url_nutimilk = \"https://www.lazada.vn/tag/nutimilk/?_keyori=ss&catalog_redirect_tag=true&from=input&page={}&q=nutimilk&spm=a2o4n.officialstores.search.go.1e0467805iBKnW\"\n",
    "urls_nutimilk = [base_url_nutimilk.format(page) for page in range(1, 16)]\n",
    "for url in urls_nutimilk:\n",
    "    crawler(url)\n",
    "    time.sleep(random.uniform(10, 15))"
   ]
  },
  {
   "cell_type": "code",
   "execution_count": 5,
   "metadata": {},
   "outputs": [],
   "source": [
    "base_url_dalatmilk = \"https://www.lazada.vn/catalog/?page={}&q=%20DALATMILK\"\n",
    "urls_dalatmilk = [base_url_dalatmilk.format(page) for page in range(1, 21)]\n",
    "for url in urls_dalatmilk:\n",
    "    crawler(url)\n",
    "    time.sleep(random.uniform(10, 15))"
   ]
  },
  {
   "cell_type": "code",
   "execution_count": null,
   "metadata": {},
   "outputs": [
    {
     "name": "stdout",
     "output_type": "stream",
     "text": [
      "WebDriver error occurred: Message: no such window: target window already closed\n",
      "from unknown error: web view not found\n",
      "  (Session info: MicrosoftEdge=129.0.2792.79)\n",
      "\n"
     ]
    }
   ],
   "source": [
    "base_url_ensure = \"https://www.lazada.vn/tag/sua-nuoc-ensure/?_keyori=ss&catalog_redirect_tag=true&clickTrackInfo=abId--378451__textId--467783842478577521__score--6.581676__pvid--f392d79d-4e14-41f3-9171-1f8d3dbf7c2d__matchType--1__matchList--1__listNo--0__inputQuery--s%25E1%25BB%25AFa%2Bn%25C6%25B0%25E1%25BB%259Bc%2Ben__srcQuery--s%E1%BB%AFa%20n%C6%B0%E1%BB%9Bc%20ensure__spellQuery--s%E1%BB%AFa%20n%C6%B0%E1%BB%9Bc%20ensure__ctrScore--0.6581676__cvrScore--0.0887154&from=suggest_normal&page={}&q=s%E1%BB%AFa%20n%C6%B0%E1%BB%9Bc%20ensure&spm=a2o4n.searchlist.search.2.39c14e9eJMOs6o&sugg=s%E1%BB%AFa%20n%C6%B0%E1%BB%9Bc%20ensure_0_1\"\n",
    "urls_ensure = [base_url_ensure.format(page) for page in range(1, 29)]\n",
    "for url in urls_ensure:\n",
    "    crawler(url)\n",
    "    time.sleep(random.uniform(10, 15))"
   ]
  },
  {
   "cell_type": "code",
   "execution_count": 6,
   "metadata": {},
   "outputs": [],
   "source": [
    "base_url_mocchau = \"https://www.lazada.vn/tag/sua-moc-chau/?catalog_redirect_tag=true&page={}&q=s%E1%BB%AFa%20m%E1%BB%99c%20ch%C3%A2u\"\n",
    "urls_mocchau = [base_url_mocchau.format(page) for page in range(1, 3)]\n",
    "for url in urls_mocchau:\n",
    "    crawler(url)\n",
    "    time.sleep(random.uniform(10, 15))"
   ]
  },
  {
   "cell_type": "code",
   "execution_count": 8,
   "metadata": {},
   "outputs": [
    {
     "name": "stdout",
     "output_type": "stream",
     "text": [
      "WebDriver error occurred: Message: \n",
      "\n",
      "WebDriver error occurred: Message: \n",
      "\n",
      "WebDriver error occurred: Message: \n",
      "\n",
      "WebDriver error occurred: Message: \n",
      "\n",
      "WebDriver error occurred: Message: \n",
      "\n"
     ]
    }
   ],
   "source": [
    "base_url_Mlekovita =\"https://www.lazada.vn/catalog/?page={}&q=S%E1%BB%AFa%20T%C6%B0%C6%A1i%20Ba%20lan%20Mlekovita%20\"\n",
    "urls_Mlekovita =  [base_url_Mlekovita.format(page) for page in range(1, 17)]\n",
    "for url in urls_Mlekovita:\n",
    "    crawler(url)\n",
    "    time.sleep(random.uniform(10, 15))"
   ]
  },
  {
   "cell_type": "code",
   "execution_count": 6,
   "metadata": {},
   "outputs": [
    {
     "name": "stdout",
     "output_type": "stream",
     "text": [
      "WebDriver error occurred: Message: \n",
      "\n"
     ]
    }
   ],
   "source": [
    "base_url_Devondale = \"https://www.lazada.vn/catalog/?page={}&q=Devondale\"\n",
    "urls_Devondale =  [base_url_Devondale.format(page) for page in range(1, 7)]\n",
    "for url in urls_Devondale:\n",
    "    crawler(url)\n",
    "    time.sleep(random.uniform(10, 15))"
   ]
  },
  {
   "cell_type": "code",
   "execution_count": null,
   "metadata": {},
   "outputs": [],
   "source": [
    "base_url_MeadowFresh = \"https://www.lazada.vn/catalog/?page=32&q=meadow%20fresh\"\n",
    "urls_MeadowFresh =  [base_url_MeadowFresh.format(page) for page in range(1, 33)]\n",
    "for url in urls_MeadowFresh:\n",
    "    crawler(url)\n",
    "    time.sleep(random.uniform(10, 15))"
   ]
  },
  {
   "cell_type": "code",
   "execution_count": null,
   "metadata": {},
   "outputs": [],
   "source": [
    "url_horizon = \"https://www.lazada.vn/catalog/?q=S%E1%BB%AFa%20t%C6%B0%C6%A1i%20Horizon\"\n",
    "crawler(url_horizon)"
   ]
  },
  {
   "cell_type": "code",
   "execution_count": 3,
   "metadata": {},
   "outputs": [
    {
     "name": "stdout",
     "output_type": "stream",
     "text": [
      "WebDriver error occurred: Message: \n",
      "\n",
      "WebDriver error occurred: Message: \n",
      "\n",
      "WebDriver error occurred: Message: \n",
      "\n",
      "WebDriver error occurred: Message: \n",
      "\n",
      "WebDriver error occurred: Message: \n",
      "\n"
     ]
    },
    {
     "ename": "KeyboardInterrupt",
     "evalue": "",
     "output_type": "error",
     "traceback": [
      "\u001b[1;31m---------------------------------------------------------------------------\u001b[0m",
      "\u001b[1;31mKeyboardInterrupt\u001b[0m                         Traceback (most recent call last)",
      "Cell \u001b[1;32mIn[3], line 4\u001b[0m\n\u001b[0;32m      2\u001b[0m urls_promess \u001b[38;5;241m=\u001b[39m [base_url_promess\u001b[38;5;241m.\u001b[39mformat(page) \u001b[38;5;28;01mfor\u001b[39;00m page \u001b[38;5;129;01min\u001b[39;00m \u001b[38;5;28mrange\u001b[39m(\u001b[38;5;241m1\u001b[39m, \u001b[38;5;241m32\u001b[39m)]\n\u001b[0;32m      3\u001b[0m \u001b[38;5;28;01mfor\u001b[39;00m url \u001b[38;5;129;01min\u001b[39;00m urls_promess:\n\u001b[1;32m----> 4\u001b[0m     \u001b[43mcrawler\u001b[49m\u001b[43m(\u001b[49m\u001b[43murl\u001b[49m\u001b[43m)\u001b[49m\n\u001b[0;32m      5\u001b[0m     time\u001b[38;5;241m.\u001b[39msleep(random\u001b[38;5;241m.\u001b[39muniform(\u001b[38;5;241m10\u001b[39m, \u001b[38;5;241m15\u001b[39m))\n",
      "Cell \u001b[1;32mIn[2], line 3\u001b[0m, in \u001b[0;36mcrawler\u001b[1;34m(url)\u001b[0m\n\u001b[0;32m      1\u001b[0m \u001b[38;5;28;01mdef\u001b[39;00m \u001b[38;5;21mcrawler\u001b[39m(url):\n\u001b[0;32m      2\u001b[0m     edge_driver_path \u001b[38;5;241m=\u001b[39m \u001b[38;5;124mr\u001b[39m\u001b[38;5;124m\"\u001b[39m\u001b[38;5;124mC:\u001b[39m\u001b[38;5;124m\\\u001b[39m\u001b[38;5;124mUsers\u001b[39m\u001b[38;5;124m\\\u001b[39m\u001b[38;5;124mfptsh\u001b[39m\u001b[38;5;124m\\\u001b[39m\u001b[38;5;124mOneDrive\u001b[39m\u001b[38;5;124m\\\u001b[39m\u001b[38;5;124mDesktop\u001b[39m\u001b[38;5;124m\\\u001b[39m\u001b[38;5;124mBI\u001b[39m\u001b[38;5;124m\\\u001b[39m\u001b[38;5;124mdriver\u001b[39m\u001b[38;5;124m\\\u001b[39m\u001b[38;5;124mmsedgedriver.exe\u001b[39m\u001b[38;5;124m\"\u001b[39m\n\u001b[1;32m----> 3\u001b[0m     driver \u001b[38;5;241m=\u001b[39m \u001b[43mwebdriver\u001b[49m\u001b[38;5;241;43m.\u001b[39;49m\u001b[43mEdge\u001b[49m\u001b[43m(\u001b[49m\u001b[43mexecutable_path\u001b[49m\u001b[38;5;241;43m=\u001b[39;49m\u001b[43medge_driver_path\u001b[49m\u001b[43m)\u001b[49m\n\u001b[0;32m      4\u001b[0m     action \u001b[38;5;241m=\u001b[39m ActionChains(driver)\n\u001b[0;32m      5\u001b[0m     action\u001b[38;5;241m.\u001b[39mmove_by_offset(\u001b[38;5;241m100\u001b[39m, \u001b[38;5;241m100\u001b[39m)\u001b[38;5;241m.\u001b[39mperform()\n",
      "File \u001b[1;32mc:\\Users\\fptsh\\AppData\\Local\\Programs\\Python\\Python312\\Lib\\site-packages\\selenium\\webdriver\\edge\\webdriver.py:56\u001b[0m, in \u001b[0;36mWebDriver.__init__\u001b[1;34m(self, executable_path, capabilities, port, verbose, service_log_path, log_path, keep_alive)\u001b[0m\n\u001b[0;32m     53\u001b[0m     \u001b[38;5;28mself\u001b[39m\u001b[38;5;241m.\u001b[39mport \u001b[38;5;241m=\u001b[39m utils\u001b[38;5;241m.\u001b[39mfree_port()\n\u001b[0;32m     55\u001b[0m \u001b[38;5;28mself\u001b[39m\u001b[38;5;241m.\u001b[39medge_service \u001b[38;5;241m=\u001b[39m Service(executable_path, port\u001b[38;5;241m=\u001b[39m\u001b[38;5;28mself\u001b[39m\u001b[38;5;241m.\u001b[39mport, verbose\u001b[38;5;241m=\u001b[39mverbose, log_path\u001b[38;5;241m=\u001b[39mservice_log_path)\n\u001b[1;32m---> 56\u001b[0m \u001b[38;5;28;43mself\u001b[39;49m\u001b[38;5;241;43m.\u001b[39;49m\u001b[43medge_service\u001b[49m\u001b[38;5;241;43m.\u001b[39;49m\u001b[43mstart\u001b[49m\u001b[43m(\u001b[49m\u001b[43m)\u001b[49m\n\u001b[0;32m     58\u001b[0m \u001b[38;5;28;01mif\u001b[39;00m capabilities \u001b[38;5;129;01mis\u001b[39;00m \u001b[38;5;28;01mNone\u001b[39;00m:\n\u001b[0;32m     59\u001b[0m     capabilities \u001b[38;5;241m=\u001b[39m DesiredCapabilities\u001b[38;5;241m.\u001b[39mEDGE\n",
      "File \u001b[1;32mc:\\Users\\fptsh\\AppData\\Local\\Programs\\Python\\Python312\\Lib\\site-packages\\selenium\\webdriver\\common\\service.py:99\u001b[0m, in \u001b[0;36mService.start\u001b[1;34m(self)\u001b[0m\n\u001b[0;32m     97\u001b[0m \u001b[38;5;28;01mwhile\u001b[39;00m \u001b[38;5;28;01mTrue\u001b[39;00m:\n\u001b[0;32m     98\u001b[0m     \u001b[38;5;28mself\u001b[39m\u001b[38;5;241m.\u001b[39massert_process_still_running()\n\u001b[1;32m---> 99\u001b[0m     \u001b[38;5;28;01mif\u001b[39;00m \u001b[38;5;28;43mself\u001b[39;49m\u001b[38;5;241;43m.\u001b[39;49m\u001b[43mis_connectable\u001b[49m\u001b[43m(\u001b[49m\u001b[43m)\u001b[49m:\n\u001b[0;32m    100\u001b[0m         \u001b[38;5;28;01mbreak\u001b[39;00m\n\u001b[0;32m    101\u001b[0m     count \u001b[38;5;241m+\u001b[39m\u001b[38;5;241m=\u001b[39m \u001b[38;5;241m1\u001b[39m\n",
      "File \u001b[1;32mc:\\Users\\fptsh\\AppData\\Local\\Programs\\Python\\Python312\\Lib\\site-packages\\selenium\\webdriver\\common\\service.py:115\u001b[0m, in \u001b[0;36mService.is_connectable\u001b[1;34m(self)\u001b[0m\n\u001b[0;32m    114\u001b[0m \u001b[38;5;28;01mdef\u001b[39;00m \u001b[38;5;21mis_connectable\u001b[39m(\u001b[38;5;28mself\u001b[39m):\n\u001b[1;32m--> 115\u001b[0m     \u001b[38;5;28;01mreturn\u001b[39;00m \u001b[43mutils\u001b[49m\u001b[38;5;241;43m.\u001b[39;49m\u001b[43mis_connectable\u001b[49m\u001b[43m(\u001b[49m\u001b[38;5;28;43mself\u001b[39;49m\u001b[38;5;241;43m.\u001b[39;49m\u001b[43mport\u001b[49m\u001b[43m)\u001b[49m\n",
      "File \u001b[1;32mc:\\Users\\fptsh\\AppData\\Local\\Programs\\Python\\Python312\\Lib\\site-packages\\selenium\\webdriver\\common\\utils.py:106\u001b[0m, in \u001b[0;36mis_connectable\u001b[1;34m(port, host)\u001b[0m\n\u001b[0;32m    104\u001b[0m socket_ \u001b[38;5;241m=\u001b[39m \u001b[38;5;28;01mNone\u001b[39;00m\n\u001b[0;32m    105\u001b[0m \u001b[38;5;28;01mtry\u001b[39;00m:\n\u001b[1;32m--> 106\u001b[0m     socket_ \u001b[38;5;241m=\u001b[39m \u001b[43msocket\u001b[49m\u001b[38;5;241;43m.\u001b[39;49m\u001b[43mcreate_connection\u001b[49m\u001b[43m(\u001b[49m\u001b[43m(\u001b[49m\u001b[43mhost\u001b[49m\u001b[43m,\u001b[49m\u001b[43m \u001b[49m\u001b[43mport\u001b[49m\u001b[43m)\u001b[49m\u001b[43m,\u001b[49m\u001b[43m \u001b[49m\u001b[38;5;241;43m1\u001b[39;49m\u001b[43m)\u001b[49m\n\u001b[0;32m    107\u001b[0m     result \u001b[38;5;241m=\u001b[39m \u001b[38;5;28;01mTrue\u001b[39;00m\n\u001b[0;32m    108\u001b[0m \u001b[38;5;28;01mexcept\u001b[39;00m socket\u001b[38;5;241m.\u001b[39merror:\n",
      "File \u001b[1;32mc:\\Users\\fptsh\\AppData\\Local\\Programs\\Python\\Python312\\Lib\\socket.py:850\u001b[0m, in \u001b[0;36mcreate_connection\u001b[1;34m(address, timeout, source_address, all_errors)\u001b[0m\n\u001b[0;32m    848\u001b[0m \u001b[38;5;28;01mif\u001b[39;00m source_address:\n\u001b[0;32m    849\u001b[0m     sock\u001b[38;5;241m.\u001b[39mbind(source_address)\n\u001b[1;32m--> 850\u001b[0m \u001b[43msock\u001b[49m\u001b[38;5;241;43m.\u001b[39;49m\u001b[43mconnect\u001b[49m\u001b[43m(\u001b[49m\u001b[43msa\u001b[49m\u001b[43m)\u001b[49m\n\u001b[0;32m    851\u001b[0m \u001b[38;5;66;03m# Break explicitly a reference cycle\u001b[39;00m\n\u001b[0;32m    852\u001b[0m exceptions\u001b[38;5;241m.\u001b[39mclear()\n",
      "\u001b[1;31mKeyboardInterrupt\u001b[0m: "
     ]
    }
   ],
   "source": [
    "base_url_promess = \"https://www.lazada.vn/tag/promess/?catalog_redirect_tag=true&page={}&q=Promess\"\n",
    "urls_promess = [base_url_promess.format(page) for page in range(1, 32)]\n",
    "for url in urls_promess:\n",
    "    crawler(url)\n",
    "    time.sleep(random.uniform(10, 15))\n"
   ]
  },
  {
   "cell_type": "code",
   "execution_count": 4,
   "metadata": {},
   "outputs": [
    {
     "name": "stdout",
     "output_type": "stream",
     "text": [
      "WebDriver error occurred: Message: no such window: target window already closed\n",
      "from unknown error: web view not found\n",
      "  (Session info: MicrosoftEdge=129.0.2792.79)\n",
      "\n"
     ]
    },
    {
     "ename": "KeyboardInterrupt",
     "evalue": "",
     "output_type": "error",
     "traceback": [
      "\u001b[1;31m---------------------------------------------------------------------------\u001b[0m",
      "\u001b[1;31mTimeoutError\u001b[0m                              Traceback (most recent call last)",
      "File \u001b[1;32mc:\\Users\\fptsh\\AppData\\Local\\Programs\\Python\\Python312\\Lib\\socket.py:850\u001b[0m, in \u001b[0;36mcreate_connection\u001b[1;34m(address, timeout, source_address, all_errors)\u001b[0m\n\u001b[0;32m    849\u001b[0m     sock\u001b[38;5;241m.\u001b[39mbind(source_address)\n\u001b[1;32m--> 850\u001b[0m \u001b[43msock\u001b[49m\u001b[38;5;241;43m.\u001b[39;49m\u001b[43mconnect\u001b[49m\u001b[43m(\u001b[49m\u001b[43msa\u001b[49m\u001b[43m)\u001b[49m\n\u001b[0;32m    851\u001b[0m \u001b[38;5;66;03m# Break explicitly a reference cycle\u001b[39;00m\n",
      "\u001b[1;31mTimeoutError\u001b[0m: timed out",
      "\nDuring handling of the above exception, another exception occurred:\n",
      "\u001b[1;31mKeyboardInterrupt\u001b[0m                         Traceback (most recent call last)",
      "Cell \u001b[1;32mIn[4], line 4\u001b[0m\n\u001b[0;32m      2\u001b[0m urls_milo \u001b[38;5;241m=\u001b[39m [base_url_milo\u001b[38;5;241m.\u001b[39mformat(page) \u001b[38;5;28;01mfor\u001b[39;00m page \u001b[38;5;129;01min\u001b[39;00m \u001b[38;5;28mrange\u001b[39m(\u001b[38;5;241m1\u001b[39m, \u001b[38;5;241m17\u001b[39m)]\n\u001b[0;32m      3\u001b[0m \u001b[38;5;28;01mfor\u001b[39;00m url \u001b[38;5;129;01min\u001b[39;00m urls_milo:\n\u001b[1;32m----> 4\u001b[0m     \u001b[43mcrawler\u001b[49m\u001b[43m(\u001b[49m\u001b[43murl\u001b[49m\u001b[43m)\u001b[49m\n\u001b[0;32m      5\u001b[0m     time\u001b[38;5;241m.\u001b[39msleep(random\u001b[38;5;241m.\u001b[39muniform(\u001b[38;5;241m10\u001b[39m, \u001b[38;5;241m15\u001b[39m))\n",
      "Cell \u001b[1;32mIn[3], line 29\u001b[0m, in \u001b[0;36mcrawler\u001b[1;34m(url)\u001b[0m\n\u001b[0;32m     27\u001b[0m     \u001b[38;5;28mprint\u001b[39m(\u001b[38;5;124mf\u001b[39m\u001b[38;5;124m\"\u001b[39m\u001b[38;5;124mAn error occurred: \u001b[39m\u001b[38;5;132;01m{\u001b[39;00me\u001b[38;5;132;01m}\u001b[39;00m\u001b[38;5;124m\"\u001b[39m)\n\u001b[0;32m     28\u001b[0m \u001b[38;5;28;01mfinally\u001b[39;00m:\n\u001b[1;32m---> 29\u001b[0m     \u001b[43mdriver\u001b[49m\u001b[38;5;241;43m.\u001b[39;49m\u001b[43mquit\u001b[49m\u001b[43m(\u001b[49m\u001b[43m)\u001b[49m\n",
      "File \u001b[1;32mc:\\Users\\fptsh\\AppData\\Local\\Programs\\Python\\Python312\\Lib\\site-packages\\selenium\\webdriver\\edge\\webdriver.py:71\u001b[0m, in \u001b[0;36mWebDriver.quit\u001b[1;34m(self)\u001b[0m\n\u001b[0;32m     69\u001b[0m \u001b[38;5;28;01mdef\u001b[39;00m \u001b[38;5;21mquit\u001b[39m(\u001b[38;5;28mself\u001b[39m):\n\u001b[0;32m     70\u001b[0m     RemoteWebDriver\u001b[38;5;241m.\u001b[39mquit(\u001b[38;5;28mself\u001b[39m)\n\u001b[1;32m---> 71\u001b[0m     \u001b[38;5;28;43mself\u001b[39;49m\u001b[38;5;241;43m.\u001b[39;49m\u001b[43medge_service\u001b[49m\u001b[38;5;241;43m.\u001b[39;49m\u001b[43mstop\u001b[49m\u001b[43m(\u001b[49m\u001b[43m)\u001b[49m\n",
      "File \u001b[1;32mc:\\Users\\fptsh\\AppData\\Local\\Programs\\Python\\Python312\\Lib\\site-packages\\selenium\\webdriver\\common\\service.py:151\u001b[0m, in \u001b[0;36mService.stop\u001b[1;34m(self)\u001b[0m\n\u001b[0;32m    148\u001b[0m     \u001b[38;5;28;01mreturn\u001b[39;00m\n\u001b[0;32m    150\u001b[0m \u001b[38;5;28;01mtry\u001b[39;00m:\n\u001b[1;32m--> 151\u001b[0m     \u001b[38;5;28;43mself\u001b[39;49m\u001b[38;5;241;43m.\u001b[39;49m\u001b[43msend_remote_shutdown_command\u001b[49m\u001b[43m(\u001b[49m\u001b[43m)\u001b[49m\n\u001b[0;32m    152\u001b[0m \u001b[38;5;28;01mexcept\u001b[39;00m \u001b[38;5;167;01mTypeError\u001b[39;00m:\n\u001b[0;32m    153\u001b[0m     \u001b[38;5;28;01mpass\u001b[39;00m\n",
      "File \u001b[1;32mc:\\Users\\fptsh\\AppData\\Local\\Programs\\Python\\Python312\\Lib\\site-packages\\selenium\\webdriver\\common\\service.py:132\u001b[0m, in \u001b[0;36mService.send_remote_shutdown_command\u001b[1;34m(self)\u001b[0m\n\u001b[0;32m    129\u001b[0m     \u001b[38;5;28;01mreturn\u001b[39;00m\n\u001b[0;32m    131\u001b[0m \u001b[38;5;28;01mfor\u001b[39;00m x \u001b[38;5;129;01min\u001b[39;00m \u001b[38;5;28mrange\u001b[39m(\u001b[38;5;241m30\u001b[39m):\n\u001b[1;32m--> 132\u001b[0m     \u001b[38;5;28;01mif\u001b[39;00m \u001b[38;5;129;01mnot\u001b[39;00m \u001b[38;5;28;43mself\u001b[39;49m\u001b[38;5;241;43m.\u001b[39;49m\u001b[43mis_connectable\u001b[49m\u001b[43m(\u001b[49m\u001b[43m)\u001b[49m:\n\u001b[0;32m    133\u001b[0m         \u001b[38;5;28;01mbreak\u001b[39;00m\n\u001b[0;32m    134\u001b[0m     \u001b[38;5;28;01melse\u001b[39;00m:\n",
      "File \u001b[1;32mc:\\Users\\fptsh\\AppData\\Local\\Programs\\Python\\Python312\\Lib\\site-packages\\selenium\\webdriver\\common\\service.py:115\u001b[0m, in \u001b[0;36mService.is_connectable\u001b[1;34m(self)\u001b[0m\n\u001b[0;32m    114\u001b[0m \u001b[38;5;28;01mdef\u001b[39;00m \u001b[38;5;21mis_connectable\u001b[39m(\u001b[38;5;28mself\u001b[39m):\n\u001b[1;32m--> 115\u001b[0m     \u001b[38;5;28;01mreturn\u001b[39;00m \u001b[43mutils\u001b[49m\u001b[38;5;241;43m.\u001b[39;49m\u001b[43mis_connectable\u001b[49m\u001b[43m(\u001b[49m\u001b[38;5;28;43mself\u001b[39;49m\u001b[38;5;241;43m.\u001b[39;49m\u001b[43mport\u001b[49m\u001b[43m)\u001b[49m\n",
      "File \u001b[1;32mc:\\Users\\fptsh\\AppData\\Local\\Programs\\Python\\Python312\\Lib\\site-packages\\selenium\\webdriver\\common\\utils.py:106\u001b[0m, in \u001b[0;36mis_connectable\u001b[1;34m(port, host)\u001b[0m\n\u001b[0;32m    104\u001b[0m socket_ \u001b[38;5;241m=\u001b[39m \u001b[38;5;28;01mNone\u001b[39;00m\n\u001b[0;32m    105\u001b[0m \u001b[38;5;28;01mtry\u001b[39;00m:\n\u001b[1;32m--> 106\u001b[0m     socket_ \u001b[38;5;241m=\u001b[39m \u001b[43msocket\u001b[49m\u001b[38;5;241;43m.\u001b[39;49m\u001b[43mcreate_connection\u001b[49m\u001b[43m(\u001b[49m\u001b[43m(\u001b[49m\u001b[43mhost\u001b[49m\u001b[43m,\u001b[49m\u001b[43m \u001b[49m\u001b[43mport\u001b[49m\u001b[43m)\u001b[49m\u001b[43m,\u001b[49m\u001b[43m \u001b[49m\u001b[38;5;241;43m1\u001b[39;49m\u001b[43m)\u001b[49m\n\u001b[0;32m    107\u001b[0m     result \u001b[38;5;241m=\u001b[39m \u001b[38;5;28;01mTrue\u001b[39;00m\n\u001b[0;32m    108\u001b[0m \u001b[38;5;28;01mexcept\u001b[39;00m socket\u001b[38;5;241m.\u001b[39merror:\n",
      "File \u001b[1;32mc:\\Users\\fptsh\\AppData\\Local\\Programs\\Python\\Python312\\Lib\\socket.py:857\u001b[0m, in \u001b[0;36mcreate_connection\u001b[1;34m(address, timeout, source_address, all_errors)\u001b[0m\n\u001b[0;32m    855\u001b[0m \u001b[38;5;28;01mexcept\u001b[39;00m error \u001b[38;5;28;01mas\u001b[39;00m exc:\n\u001b[0;32m    856\u001b[0m     \u001b[38;5;28;01mif\u001b[39;00m \u001b[38;5;129;01mnot\u001b[39;00m all_errors:\n\u001b[1;32m--> 857\u001b[0m         \u001b[43mexceptions\u001b[49m\u001b[38;5;241;43m.\u001b[39;49m\u001b[43mclear\u001b[49m\u001b[43m(\u001b[49m\u001b[43m)\u001b[49m  \u001b[38;5;66;03m# raise only the last error\u001b[39;00m\n\u001b[0;32m    858\u001b[0m     exceptions\u001b[38;5;241m.\u001b[39mappend(exc)\n\u001b[0;32m    859\u001b[0m     \u001b[38;5;28;01mif\u001b[39;00m sock \u001b[38;5;129;01mis\u001b[39;00m \u001b[38;5;129;01mnot\u001b[39;00m \u001b[38;5;28;01mNone\u001b[39;00m:\n",
      "\u001b[1;31mKeyboardInterrupt\u001b[0m: "
     ]
    }
   ],
   "source": [
    "base_url_milo = \"https://www.lazada.vn/catalog/?page={}&q=milo&spm=a2o4n.homepage.search.d_go\"\n",
    "urls_milo = [base_url_milo.format(page) for page in range(1, 17)]\n",
    "for url in urls_milo:\n",
    "    crawler(url)\n",
    "    time.sleep(random.uniform(10, 15))"
   ]
  },
  {
   "cell_type": "code",
   "execution_count": 5,
   "metadata": {},
   "outputs": [],
   "source": [
    "base_url_vfresh = \"https://www.lazada.vn/tag/nuoc-vfresh/?catalog_redirect_tag=true&page={}&q=n%C6%B0%E1%BB%9Bc%20vfresh\"\n",
    "urls_vfresh = [base_url_vfresh.format(page) for page in range(1, 33)]\n",
    "for url in urls_vfresh:\n",
    "    crawler(url)\n",
    "    time.sleep(random.uniform(10, 15))"
   ]
  },
  {
   "cell_type": "code",
   "execution_count": null,
   "metadata": {},
   "outputs": [],
   "source": [
    "base_url_TH_True_Juice = \"https://www.lazada.vn/catalog/?page={}&q=TH%20True%20Juice&spm=a2o4n.homepage.search.d_go\"\n",
    "urls_TH_True_Juice = [base_url_TH_True_Juice.format(page) for page in range(1, 32)]\n",
    "for url in urls_TH_True_Juice:\n",
    "    crawler(url)\n",
    "    time.sleep(random.uniform(10, 15))"
   ]
  },
  {
   "cell_type": "code",
   "execution_count": 6,
   "metadata": {},
   "outputs": [
    {
     "name": "stdout",
     "output_type": "stream",
     "text": [
      "WebDriver error occurred: Message: \n",
      "\n",
      "WebDriver error occurred: Message: \n",
      "\n",
      "WebDriver error occurred: Message: \n",
      "\n",
      "WebDriver error occurred: Message: \n",
      "\n",
      "WebDriver error occurred: Message: \n",
      "\n",
      "WebDriver error occurred: Message: \n",
      "\n",
      "WebDriver error occurred: Message: \n",
      "\n"
     ]
    }
   ],
   "source": [
    "base_url_sua_chua_Vinamilk = \"https://www.lazada.vn/catalog/?_keyori=ss&from=search_history&page={}&q=s%E1%BB%AFa%20chua%20vinamilk&spm=a2o4n.homepage.search.7.19053bdcDwO8IB&sugg=s%E1%BB%AFa%20chua%20vinamilk_5_1\"\n",
    "urls_sua_chua_Vinamilk = [base_url_sua_chua_Vinamilk.format(page) for page in range(1, 16)]\n",
    "for url in urls_sua_chua_Vinamilk:\n",
    "    crawler(url)\n",
    "    time.sleep(random.uniform(10, 15))"
   ]
  },
  {
   "cell_type": "code",
   "execution_count": 4,
   "metadata": {},
   "outputs": [
    {
     "name": "stdout",
     "output_type": "stream",
     "text": [
      "WebDriver error occurred: Message: \n",
      "\n",
      "WebDriver error occurred: Message: \n",
      "\n",
      "WebDriver error occurred: Message: \n",
      "\n"
     ]
    }
   ],
   "source": [
    "base_url_TH_Yogurt = \"https://www.lazada.vn/tag/th-true-yogurt/?_keyori=ss&catalog_redirect_tag=true&clickTrackInfo=abId--378451__textId--3112943866340613654__score--8.2427025__pvid--48298102-c036-4e83-b4e2-ee342218c78b__matchType--1__matchList--1-3__listNo--0__inputQuery--th%2Btrue%2Byo__srcQuery--th%20true%20yogurt__spellQuery--th%20true%20yogurt__ctrScore--0.82427025__cvrScore--0.04710111&from=suggest_normal&page={}&q=th%20true%20yogurt&spm=a2o4n.tm80007362.search.2.7896jzVtjzVtIw&sugg=th%20true%20yogurt_0_1\"\n",
    "urls_TH_Yogurt = [base_url_TH_Yogurt.format(page) for page in range(1, 40)]\n",
    "for url in urls_TH_Yogurt:\n",
    "    crawler(url)\n",
    "    time.sleep(random.uniform(10, 15))\n"
   ]
  },
  {
   "cell_type": "code",
   "execution_count": 4,
   "metadata": {},
   "outputs": [
    {
     "name": "stdout",
     "output_type": "stream",
     "text": [
      "WebDriver error occurred: Message: \n",
      "\n",
      "WebDriver error occurred: Message: \n",
      "\n",
      "WebDriver error occurred: Message: \n",
      "\n",
      "WebDriver error occurred: Message: \n",
      "\n"
     ]
    }
   ],
   "source": [
    "base_url_yakult = 'https://www.lazada.vn/tag/yakult/?catalog_redirect_tag=true&page={}&q=yakult&spm=a2o4n.homepage.search.d_go'\n",
    "urls_yakult = [base_url_yakult.format(page) for page in range(1, 6)]\n",
    "for url in urls_yakult:\n",
    "    crawler(url)\n",
    "    time.sleep(random.uniform(10, 15))\n",
    "base_url_probi = 'https://www.lazada.vn/tag/probi/?catalog_redirect_tag=true&page={}&q=probi'\n",
    "urls_probi = [base_url_probi.format(page) for page in range(1, 6)]\n",
    "for url in urls_probi:\n",
    "    crawler(url)\n",
    "    time.sleep(random.uniform(10, 15))"
   ]
  },
  {
   "cell_type": "code",
   "execution_count": null,
   "metadata": {},
   "outputs": [],
   "source": [
    "\n",
    "base_url_anlene = 'https://www.lazada.vn/catalog/?_keyori=ss&clickTrackInfo=abId--378451__textId--4099889068036962595__score--5.3638277__pvid--70c58196-1056-4581-b814-c36afe344be6__matchType--1__matchList--1__listNo--0__inputQuery--anl__srcQuery--anlene__spellQuery--anlene__ctrScore--0.5363828__cvrScore--0.14228368&from=suggest_normal&page=1&q=anlene&spm=a2o4n.homepage.search.2.15383bdcoPuQMz&sugg=anlene_0_1'\n",
    "\n",
    "crawler(base_url_anlene)\n"
   ]
  },
  {
   "cell_type": "code",
   "execution_count": 8,
   "metadata": {},
   "outputs": [],
   "source": [
    "base_url_sure_prevent = 'https://www.lazada.vn/catalog/?q=canxi%20pro'\n",
    "crawler(base_url_sure_prevent)"
   ]
  },
  {
   "cell_type": "code",
   "execution_count": 6,
   "metadata": {},
   "outputs": [
    {
     "name": "stdout",
     "output_type": "stream",
     "text": [
      "WebDriver error occurred: Message: \n",
      "\n",
      "WebDriver error occurred: Message: \n",
      "\n"
     ]
    }
   ],
   "source": [
    "base_url_grow = 'https://www.lazada.vn/tag/growplus/?catalog_redirect_tag=true&page={}&q=growplus%20&spm=a2o4n.momclub.search.d_go'\n",
    "urls_grow = [base_url_grow.format(page) for page in range(1, 6)]\n",
    "\n",
    "\n",
    "for url in urls_grow:\n",
    "    crawler(url)\n",
    "    time.sleep(random.uniform(10, 15))"
   ]
  }
 ],
 "metadata": {
  "kernelspec": {
   "display_name": "Python 3",
   "language": "python",
   "name": "python3"
  },
  "language_info": {
   "codemirror_mode": {
    "name": "ipython",
    "version": 3
   },
   "file_extension": ".py",
   "mimetype": "text/x-python",
   "name": "python",
   "nbconvert_exporter": "python",
   "pygments_lexer": "ipython3",
   "version": "3.12.5"
  }
 },
 "nbformat": 4,
 "nbformat_minor": 2
}
